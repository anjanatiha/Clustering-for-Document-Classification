{
 "cells": [
  {
   "cell_type": "code",
   "execution_count": 1,
   "metadata": {},
   "outputs": [
    {
     "name": "stdout",
     "output_type": "stream",
     "text": [
      "---------------------------------------------------------------------------------------------------------------\n",
      "------------------------Clustering for Document Classification Performace Evaluation---------------------------\n",
      "---------------------------------------------------------------------------------------------------------------\n",
      "------------------------------------------------KMeans---------------------------------------------------------\n"
     ]
    },
    {
     "name": "stderr",
     "output_type": "stream",
     "text": [
      "C:\\Users\\Anjana\\Anaconda3\\lib\\site-packages\\sklearn\\metrics\\classification.py:1113: UndefinedMetricWarning: F-score is ill-defined and being set to 0.0 in labels with no predicted samples.\n",
      "  'precision', 'predicted', average, warn_for)\n"
     ]
    },
    {
     "name": "stdout",
     "output_type": "stream",
     "text": [
      "KMeans, Cluster Size = 15 F-1 Score: 0.15804913202\n",
      "---------------------------------------------------------------------------------------------------------------\n"
     ]
    },
    {
     "name": "stderr",
     "output_type": "stream",
     "text": [
      "C:\\Users\\Anjana\\Anaconda3\\lib\\site-packages\\sklearn\\metrics\\classification.py:1113: UndefinedMetricWarning: F-score is ill-defined and being set to 0.0 in labels with no predicted samples.\n",
      "  'precision', 'predicted', average, warn_for)\n"
     ]
    },
    {
     "name": "stdout",
     "output_type": "stream",
     "text": [
      "KMeans, Cluster Size = 21 F-1 Score: 0.256252723944\n",
      "---------------------------------------------------------------------------------------------------------------\n"
     ]
    },
    {
     "name": "stderr",
     "output_type": "stream",
     "text": [
      "C:\\Users\\Anjana\\Anaconda3\\lib\\site-packages\\sklearn\\metrics\\classification.py:1113: UndefinedMetricWarning: F-score is ill-defined and being set to 0.0 in labels with no predicted samples.\n",
      "  'precision', 'predicted', average, warn_for)\n"
     ]
    },
    {
     "name": "stdout",
     "output_type": "stream",
     "text": [
      "KMeans, Cluster Size = 24 F-1 Score: 0.227377023004\n",
      "---------------------------------------------------------------------------------------------------------------\n"
     ]
    },
    {
     "name": "stderr",
     "output_type": "stream",
     "text": [
      "C:\\Users\\Anjana\\Anaconda3\\lib\\site-packages\\sklearn\\metrics\\classification.py:1113: UndefinedMetricWarning: F-score is ill-defined and being set to 0.0 in labels with no predicted samples.\n",
      "  'precision', 'predicted', average, warn_for)\n"
     ]
    },
    {
     "name": "stdout",
     "output_type": "stream",
     "text": [
      "KMeans, Cluster Size = 26 F-1 Score: 0.23354768503\n",
      "---------------------------------------------------------------------------------------------------------------\n"
     ]
    },
    {
     "name": "stderr",
     "output_type": "stream",
     "text": [
      "C:\\Users\\Anjana\\Anaconda3\\lib\\site-packages\\sklearn\\metrics\\classification.py:1113: UndefinedMetricWarning: F-score is ill-defined and being set to 0.0 in labels with no predicted samples.\n",
      "  'precision', 'predicted', average, warn_for)\n"
     ]
    },
    {
     "name": "stdout",
     "output_type": "stream",
     "text": [
      "KMeans, Cluster Size = 29 F-1 Score: 0.257275600391\n",
      "---------------------------------------------------------------------------------------------------------------\n"
     ]
    },
    {
     "name": "stderr",
     "output_type": "stream",
     "text": [
      "C:\\Users\\Anjana\\Anaconda3\\lib\\site-packages\\sklearn\\metrics\\classification.py:1113: UndefinedMetricWarning: F-score is ill-defined and being set to 0.0 in labels with no predicted samples.\n",
      "  'precision', 'predicted', average, warn_for)\n"
     ]
    },
    {
     "name": "stdout",
     "output_type": "stream",
     "text": [
      "KMeans, Cluster Size = 31 F-1 Score: 0.279724728562\n",
      "---------------------------------------------------------------------------------------------------------------\n"
     ]
    },
    {
     "name": "stderr",
     "output_type": "stream",
     "text": [
      "C:\\Users\\Anjana\\Anaconda3\\lib\\site-packages\\sklearn\\metrics\\classification.py:1113: UndefinedMetricWarning: F-score is ill-defined and being set to 0.0 in labels with no predicted samples.\n",
      "  'precision', 'predicted', average, warn_for)\n"
     ]
    },
    {
     "name": "stdout",
     "output_type": "stream",
     "text": [
      "KMeans, Cluster Size = 22 F-1 Score: 0.241089086604\n",
      "---------------------------------------------------------------------------------------------------------------\n",
      "-------------------------------Gaussian Mixture Model----------------------------------------------------------\n"
     ]
    },
    {
     "name": "stderr",
     "output_type": "stream",
     "text": [
      "C:\\Users\\Anjana\\Anaconda3\\lib\\site-packages\\sklearn\\metrics\\classification.py:1113: UndefinedMetricWarning: F-score is ill-defined and being set to 0.0 in labels with no predicted samples.\n",
      "  'precision', 'predicted', average, warn_for)\n"
     ]
    },
    {
     "name": "stdout",
     "output_type": "stream",
     "text": [
      "Gaussian Mixture Model, Number of Mixture Component = 21 F-1 Score: 0.149209589687\n",
      "---------------------------------------------------------------------------------------------------------------\n"
     ]
    },
    {
     "name": "stderr",
     "output_type": "stream",
     "text": [
      "C:\\Users\\Anjana\\Anaconda3\\lib\\site-packages\\sklearn\\metrics\\classification.py:1113: UndefinedMetricWarning: F-score is ill-defined and being set to 0.0 in labels with no predicted samples.\n",
      "  'precision', 'predicted', average, warn_for)\n"
     ]
    },
    {
     "name": "stdout",
     "output_type": "stream",
     "text": [
      "Gaussian Mixture Model, Number of Mixture Component = 20 F-1 Score: 0.14500650401\n",
      "---------------------------------------------------------------------------------------------------------------\n"
     ]
    },
    {
     "name": "stderr",
     "output_type": "stream",
     "text": [
      "C:\\Users\\Anjana\\Anaconda3\\lib\\site-packages\\sklearn\\metrics\\classification.py:1113: UndefinedMetricWarning: F-score is ill-defined and being set to 0.0 in labels with no predicted samples.\n",
      "  'precision', 'predicted', average, warn_for)\n"
     ]
    },
    {
     "name": "stdout",
     "output_type": "stream",
     "text": [
      "Gaussian Mixture Model, Number of Mixture Component = 23 F-1 Score: 0.138699702176\n",
      "---------------------------------------------------------------------------------------------------------------\n"
     ]
    },
    {
     "name": "stderr",
     "output_type": "stream",
     "text": [
      "C:\\Users\\Anjana\\Anaconda3\\lib\\site-packages\\sklearn\\metrics\\classification.py:1113: UndefinedMetricWarning: F-score is ill-defined and being set to 0.0 in labels with no predicted samples.\n",
      "  'precision', 'predicted', average, warn_for)\n"
     ]
    },
    {
     "name": "stdout",
     "output_type": "stream",
     "text": [
      "Gaussian Mixture Model, Number of Mixture Component = 29 F-1 Score: 0.130890066975\n",
      "---------------------------------------------------------------------------------------------------------------\n"
     ]
    },
    {
     "name": "stderr",
     "output_type": "stream",
     "text": [
      "C:\\Users\\Anjana\\Anaconda3\\lib\\site-packages\\sklearn\\metrics\\classification.py:1113: UndefinedMetricWarning: F-score is ill-defined and being set to 0.0 in labels with no predicted samples.\n",
      "  'precision', 'predicted', average, warn_for)\n"
     ]
    },
    {
     "name": "stdout",
     "output_type": "stream",
     "text": [
      "Gaussian Mixture Model, Number of Mixture Component = 24 F-1 Score: 0.106197452039\n",
      "---------------------------------------------------------------------------------------------------------------\n"
     ]
    },
    {
     "name": "stderr",
     "output_type": "stream",
     "text": [
      "C:\\Users\\Anjana\\Anaconda3\\lib\\site-packages\\sklearn\\metrics\\classification.py:1113: UndefinedMetricWarning: F-score is ill-defined and being set to 0.0 in labels with no predicted samples.\n",
      "  'precision', 'predicted', average, warn_for)\n"
     ]
    },
    {
     "name": "stdout",
     "output_type": "stream",
     "text": [
      "Gaussian Mixture Model, Number of Mixture Component = 28 F-1 Score: 0.182388249213\n",
      "---------------------------------------------------------------------------------------------------------------\n"
     ]
    },
    {
     "name": "stderr",
     "output_type": "stream",
     "text": [
      "C:\\Users\\Anjana\\Anaconda3\\lib\\site-packages\\sklearn\\metrics\\classification.py:1113: UndefinedMetricWarning: F-score is ill-defined and being set to 0.0 in labels with no predicted samples.\n",
      "  'precision', 'predicted', average, warn_for)\n"
     ]
    },
    {
     "name": "stdout",
     "output_type": "stream",
     "text": [
      "Gaussian Mixture Model, Number of Mixture Component = 30 F-1 Score: 0.145778807954\n",
      "---------------------------------------------------------------------------------------------------------------\n",
      "Gaussian Mixture Model, Number of Mixture Component = 34 F-1 Score: 0.187670629683\n",
      "---------------------------------------------------------------------------------------------------------------\n"
     ]
    },
    {
     "name": "stderr",
     "output_type": "stream",
     "text": [
      "C:\\Users\\Anjana\\Anaconda3\\lib\\site-packages\\sklearn\\metrics\\classification.py:1113: UndefinedMetricWarning: F-score is ill-defined and being set to 0.0 in labels with no predicted samples.\n",
      "  'precision', 'predicted', average, warn_for)\n"
     ]
    }
   ],
   "source": [
    "from sklearn.datasets import fetch_20newsgroups\n",
    "from sklearn.feature_extraction.text import TfidfVectorizer\n",
    "from sklearn.cluster import KMeans\n",
    "from sklearn import mixture\n",
    "from sklearn.metrics import f1_score\n",
    "import time\n",
    "\n",
    "\n",
    "newsgroups_train = fetch_20newsgroups(subset='train')\n",
    "newsgroups_test = fetch_20newsgroups(subset='test')\n",
    "    \n",
    "def majority_assign(predictions):\n",
    "\n",
    "    prediction_set = set(predictions)\n",
    "    prediction_list = list(prediction_set)\n",
    "\n",
    "    cluster_assign_type = {}\n",
    "\n",
    "    for x in prediction_list:\n",
    "        \n",
    "        cluster_x_dict = {}\n",
    "        index = 0\n",
    "        \n",
    "        for j in predictions:\n",
    "            if x == j:\n",
    "                #fraction of the data set use would help processing faster faster.\n",
    "                actual_value = newsgroups_test.target[:250][index]\n",
    "                #actual_value = newsgroups_test.target[index]\n",
    "                if actual_value in cluster_x_dict:      \n",
    "                    cluster_x_dict[actual_value] += 1\n",
    "                else:\n",
    "                    cluster_x_dict[actual_value] = 1\n",
    "            index += 1\n",
    "            \n",
    "        \n",
    "        for val in cluster_x_dict:\n",
    "            cluster_x_majority = max (cluster_x_dict, key = cluster_x_dict.get)\n",
    "        cluster_assign_type[x] = cluster_x_majority\n",
    "        \n",
    "        del(cluster_x_dict)\n",
    "    \n",
    "    assign_index = 0\n",
    "    \n",
    "    for f in predictions:\n",
    "        \n",
    "        predictions[assign_index] = cluster_assign_type[f]\n",
    "        assign_index += 1\n",
    "    \n",
    "    return predictions\n",
    "\n",
    "\n",
    "def model_performance(c_model, c_model_identifier, size, c_model_name):\n",
    "    \n",
    "    if c_model_identifier == 0:\n",
    "        \n",
    "        tfidf_vectorizer = TfidfVectorizer(max_features = 1000, min_df = 2, max_df = 0.8)\n",
    "        newsgroups_train_tfidf_vectorized = tfidf_vectorizer.fit_transform(newsgroups_train.data[:1500])\n",
    "        #newsgroups_train_tfidf_vectorized = tfidf_vectorizer.fit_transform(newsgroups_train.data)\n",
    "        newsgroups_test_tfidf_vectorized = tfidf_vectorizer.transform(newsgroups_test.data[:250])\n",
    "        #newsgroups_test_tfidf_vectorized = tfidf_vectorizer.transform(newsgroups_test.data)\n",
    "        \n",
    "        c_model.set_params(n_clusters = size)\n",
    "        c_model.fit(newsgroups_train_tfidf_vectorized)\n",
    "        predictions = c_model.predict(newsgroups_test_tfidf_vectorized)\n",
    "        \n",
    "        \n",
    "    elif c_model_identifier == 1:\n",
    "        \n",
    "        tfidf_vectorizer = TfidfVectorizer(max_features = 1000, min_df = 2, max_df = 0.8)\n",
    "        newsgroups_train_tfidf_vectorized = tfidf_vectorizer.fit_transform(newsgroups_train.data[:1500])\n",
    "        #newsgroups_train_tfidf_vectorized = tfidf_vectorizer.fit_transform(newsgroups_train.data)\n",
    "        newsgroups_test_tfidf_vectorized = tfidf_vectorizer.transform(newsgroups_test.data[:250])\n",
    "        #newsgroups_test_tfidf_vectorized = tfidf_vectorizer.transform(newsgroups_test.data)\n",
    "        \n",
    "        c_model.set_params(n_components = size)\n",
    "        c_model.fit(newsgroups_train_tfidf_vectorized.todense())\n",
    "        predictions = c_model.predict(newsgroups_test_tfidf_vectorized.todense())\n",
    "\n",
    "    predictions = majority_assign(predictions)\n",
    "\n",
    "    f1_score_model = f1_score(newsgroups_test.target[:250], predictions, average = 'weighted')    \n",
    "    #f1_score_model = f1_score(newsgroups_test.target, predictions, average = 'weighted')   \n",
    "      \n",
    "    print(c_model_name, size, \"F-1 Score:\", f1_score_model)\n",
    "    \n",
    "\n",
    "k_means1 = KMeans()\n",
    "k_means2 = KMeans()\n",
    "k_means3 = KMeans()\n",
    "k_means4 = KMeans()\n",
    "k_means5 = KMeans()\n",
    "k_means6 = KMeans()\n",
    "k_means7 = KMeans()\n",
    "gmm1 =  mixture.GaussianMixture(covariance_type = 'diag')\n",
    "gmm2 =  mixture.GaussianMixture(covariance_type = 'diag')\n",
    "gmm3 =  mixture.GaussianMixture(covariance_type = 'diag')\n",
    "gmm4 =  mixture.GaussianMixture(covariance_type = 'diag')\n",
    "gmm5 =  mixture.GaussianMixture(covariance_type = 'diag')\n",
    "gmm6 =  mixture.GaussianMixture(covariance_type = 'diag')\n",
    "gmm7 =  mixture.GaussianMixture(covariance_type = 'diag')\n",
    "gmm8 =  mixture.GaussianMixture(covariance_type = 'diag')\n",
    "\n",
    "print(\"---------------------------------------------------------------------------------------------------------------\")\n",
    "print(\"------------------------Clustering for Document Classification Performace Evaluation---------------------------\")\n",
    "print(\"---------------------------------------------------------------------------------------------------------------\")\n",
    "print(\"------------------------------------------------KMeans---------------------------------------------------------\")\n",
    "model_performance(k_means1, 0, 15, \"KMeans, Cluster Size =\")\n",
    "print(\"---------------------------------------------------------------------------------------------------------------\")\n",
    "model_performance(k_means2, 0, 21, \"KMeans, Cluster Size =\")\n",
    "print(\"---------------------------------------------------------------------------------------------------------------\")\n",
    "model_performance(k_means3, 0, 24, \"KMeans, Cluster Size =\")\n",
    "print(\"---------------------------------------------------------------------------------------------------------------\")\n",
    "model_performance(k_means4, 0, 26, \"KMeans, Cluster Size =\")\n",
    "print(\"---------------------------------------------------------------------------------------------------------------\")\n",
    "model_performance(k_means5, 0, 29, \"KMeans, Cluster Size =\")\n",
    "print(\"---------------------------------------------------------------------------------------------------------------\")\n",
    "model_performance(k_means6, 0, 31, \"KMeans, Cluster Size =\")\n",
    "print(\"---------------------------------------------------------------------------------------------------------------\")\n",
    "model_performance(k_means7, 0, 22, \"KMeans, Cluster Size =\")\n",
    "print(\"---------------------------------------------------------------------------------------------------------------\")\n",
    "print(\"-------------------------------Gaussian Mixture Model----------------------------------------------------------\")\n",
    "model_performance(gmm1, 1, 21, \"Gaussian Mixture Model, Number of Mixture Component =\")\n",
    "print(\"---------------------------------------------------------------------------------------------------------------\")\n",
    "model_performance(gmm2, 1, 20, \"Gaussian Mixture Model, Number of Mixture Component =\")\n",
    "print(\"---------------------------------------------------------------------------------------------------------------\")\n",
    "model_performance(gmm3, 1, 23, \"Gaussian Mixture Model, Number of Mixture Component =\")\n",
    "print(\"---------------------------------------------------------------------------------------------------------------\")\n",
    "model_performance(gmm4, 1, 29, \"Gaussian Mixture Model, Number of Mixture Component =\")\n",
    "print(\"---------------------------------------------------------------------------------------------------------------\")\n",
    "model_performance(gmm5, 1, 24, \"Gaussian Mixture Model, Number of Mixture Component =\")\n",
    "print(\"---------------------------------------------------------------------------------------------------------------\")\n",
    "model_performance(gmm6, 1, 28, \"Gaussian Mixture Model, Number of Mixture Component =\")\n",
    "print(\"---------------------------------------------------------------------------------------------------------------\")\n",
    "model_performance(gmm7, 1, 30, \"Gaussian Mixture Model, Number of Mixture Component =\")\n",
    "print(\"---------------------------------------------------------------------------------------------------------------\")\n",
    "model_performance(gmm8, 1, 34, \"Gaussian Mixture Model, Number of Mixture Component =\")\n",
    "print(\"---------------------------------------------------------------------------------------------------------------\")\n",
    "\n"
   ]
  },
  {
   "cell_type": "code",
   "execution_count": null,
   "metadata": {
    "collapsed": true
   },
   "outputs": [],
   "source": []
  },
  {
   "cell_type": "code",
   "execution_count": null,
   "metadata": {
    "collapsed": true
   },
   "outputs": [],
   "source": []
  }
 ],
 "metadata": {
  "anaconda-cloud": {},
  "kernelspec": {
   "display_name": "Python 3",
   "language": "python",
   "name": "python3"
  },
  "language_info": {
   "codemirror_mode": {
    "name": "ipython",
    "version": 3
   },
   "file_extension": ".py",
   "mimetype": "text/x-python",
   "name": "python",
   "nbconvert_exporter": "python",
   "pygments_lexer": "ipython3",
   "version": "3.6.4"
  }
 },
 "nbformat": 4,
 "nbformat_minor": 1
}
